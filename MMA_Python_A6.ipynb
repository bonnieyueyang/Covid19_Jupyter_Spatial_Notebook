{
 "cells": [
  {
   "cell_type": "code",
   "execution_count": 78,
   "metadata": {
    "scrolled": false
   },
   "outputs": [],
   "source": [
    "import requests\n",
    "from io import BytesIO\n",
    "import pandas as pd\n",
    "import arcgis\n",
    "from arcgis.features import FeatureLayer\n",
    "from arcgis.mapping import WebMap\n",
    "from arcgis.gis import GIS"
   ]
  },
  {
   "cell_type": "code",
   "execution_count": 2,
   "metadata": {},
   "outputs": [
    {
     "name": "stdout",
     "output_type": "stream",
     "text": [
      "Please sign in to your GIS and paste the code that is obtained below.\n",
      "If a web browser does not automatically open, please navigate to the URL below yourself instead.\n",
      "Opening web browser to navigate to: https://utoronto.maps.arcgis.com/sharing/rest/oauth2/authorize?client_id=5EmEaEGg3vW2nyAl&response_type=code&expiration=-1&redirect_uri=urn%3Aietf%3Awg%3Aoauth%3A2.0%3Aoob\n",
      "Enter code obtained on signing in using SAML: ········\n"
     ]
    }
   ],
   "source": [
    "gis = GIS(\"https://utoronto.maps.arcgis.com\",client_id=\"5EmEaEGg3vW2nyAl\")"
   ]
  },
  {
   "cell_type": "code",
   "execution_count": 3,
   "metadata": {
    "scrolled": true
   },
   "outputs": [
    {
     "name": "stdout",
     "output_type": "stream",
     "text": [
      "Successfully logged in as: yangyu47_utoronto\n"
     ]
    }
   ],
   "source": [
    "print(\"Successfully logged in as: \" + gis.properties.user.username)"
   ]
  },
  {
   "cell_type": "code",
   "execution_count": 43,
   "metadata": {},
   "outputs": [
    {
     "data": {
      "text/html": [
       "<div class=\"item_container\" style=\"height: auto; overflow: hidden; border: 1px solid #cfcfcf; border-radius: 2px; background: #f6fafa; line-height: 1.21429em; padding: 10px;\">\n",
       "                    <div class=\"item_left\" style=\"width: 210px; float: left;\">\n",
       "                       <a href='https://www.arcgis.com/home/item.html?id=bda7594740fd40299423467b48e9ecf6' target='_blank'>\n",
       "                        <img src='https://www.arcgis.com/sharing/rest//content/items/bda7594740fd40299423467b48e9ecf6/info/thumbnail/thumbnail1580870567590.png' class=\"itemThumbnail\">\n",
       "                       </a>\n",
       "                    </div>\n",
       "\n",
       "                    <div class=\"item_right\"     style=\"float: none; width: auto; overflow: hidden;\">\n",
       "                        <a href='https://www.arcgis.com/home/item.html?id=bda7594740fd40299423467b48e9ecf6' target='_blank'><b>Coronavirus COVID-19 (2019-nCoV)</b>\n",
       "                        </a>\n",
       "                        <br/>This ArcGIS Dashboard created by the CSSE Team at Johns Hopkins contains the most up-to-date coronavirus COVID-19 (2019-nCoV) cases and latest trend plot.<img src='https://www.arcgis.com/home/js/jsapi/esri/css/images/item_type_icons/layers16.png' style=\"vertical-align:middle;\">Dashboard by CSSE_covid19\n",
       "                        <br/>Last Modified: August 11, 2021\n",
       "                        <br/>0 comments, 358643991 views\n",
       "                    </div>\n",
       "                </div>\n",
       "                "
      ],
      "text/plain": [
       "<Item title:\"Coronavirus COVID-19 (2019-nCoV)\" type:Dashboard owner:CSSE_covid19>"
      ]
     },
     "execution_count": 43,
     "metadata": {},
     "output_type": "execute_result"
    }
   ],
   "source": [
    "item = gis.content.search(\"Coronavirus_2019_nCoV_Cases owner:CSSE_covid19\", outside_org=True)[0]\n",
    "item"
   ]
  },
  {
   "cell_type": "code",
   "execution_count": 89,
   "metadata": {},
   "outputs": [],
   "source": [
    "src_url = \"https://services1.arcgis.com/0MSEUqKaxRlEPj5g/arcgis/rest/services/Coronavirus_2019_nCoV_Cases/FeatureServer/1\"\n",
    "fl = FeatureLayer(url=src_url)"
   ]
  },
  {
   "cell_type": "code",
   "execution_count": 90,
   "metadata": {},
   "outputs": [
    {
     "name": "stderr",
     "output_type": "stream",
     "text": [
      "/Users/bonnie/opt/anaconda3/lib/python3.7/site-packages/arcgis/features/layer.py:1423: FutureWarning: The pandas.datetime class is deprecated and will be removed from pandas in a future version. Import from datetime module instead.\n",
      "  \"esriFieldTypeDate\" : pd.datetime,\n"
     ]
    }
   ],
   "source": [
    "df_global = fl.query(where=\"1=1\",\n",
    "                     return_geometry=True,\n",
    "                     as_df=True)"
   ]
  },
  {
   "cell_type": "code",
   "execution_count": 19,
   "metadata": {
    "scrolled": false
   },
   "outputs": [
    {
     "data": {
      "text/html": [
       "<div>\n",
       "<style scoped>\n",
       "    .dataframe tbody tr th:only-of-type {\n",
       "        vertical-align: middle;\n",
       "    }\n",
       "\n",
       "    .dataframe tbody tr th {\n",
       "        vertical-align: top;\n",
       "    }\n",
       "\n",
       "    .dataframe thead th {\n",
       "        text-align: right;\n",
       "    }\n",
       "</style>\n",
       "<table border=\"1\" class=\"dataframe\">\n",
       "  <thead>\n",
       "    <tr style=\"text-align: right;\">\n",
       "      <th></th>\n",
       "      <th>Confirmed</th>\n",
       "      <th>Recovered</th>\n",
       "      <th>Deaths</th>\n",
       "    </tr>\n",
       "    <tr>\n",
       "      <th>Country_Region</th>\n",
       "      <th></th>\n",
       "      <th></th>\n",
       "      <th></th>\n",
       "    </tr>\n",
       "  </thead>\n",
       "  <tbody>\n",
       "    <tr>\n",
       "      <th>Australia</th>\n",
       "      <td>59951</td>\n",
       "      <td>0</td>\n",
       "      <td>1036</td>\n",
       "    </tr>\n",
       "    <tr>\n",
       "      <th>Belgium</th>\n",
       "      <td>1192008</td>\n",
       "      <td>0</td>\n",
       "      <td>25397</td>\n",
       "    </tr>\n",
       "    <tr>\n",
       "      <th>Brazil</th>\n",
       "      <td>20856060</td>\n",
       "      <td>0</td>\n",
       "      <td>582670</td>\n",
       "    </tr>\n",
       "    <tr>\n",
       "      <th>Canada</th>\n",
       "      <td>1519744</td>\n",
       "      <td>0</td>\n",
       "      <td>27064</td>\n",
       "    </tr>\n",
       "    <tr>\n",
       "      <th>Chile</th>\n",
       "      <td>1640666</td>\n",
       "      <td>0</td>\n",
       "      <td>37067</td>\n",
       "    </tr>\n",
       "    <tr>\n",
       "      <th>China</th>\n",
       "      <td>107158</td>\n",
       "      <td>0</td>\n",
       "      <td>4848</td>\n",
       "    </tr>\n",
       "    <tr>\n",
       "      <th>Colombia</th>\n",
       "      <td>4914881</td>\n",
       "      <td>0</td>\n",
       "      <td>125158</td>\n",
       "    </tr>\n",
       "    <tr>\n",
       "      <th>Denmark</th>\n",
       "      <td>1349</td>\n",
       "      <td>0</td>\n",
       "      <td>2</td>\n",
       "    </tr>\n",
       "    <tr>\n",
       "      <th>France</th>\n",
       "      <td>234655</td>\n",
       "      <td>0</td>\n",
       "      <td>2227</td>\n",
       "    </tr>\n",
       "    <tr>\n",
       "      <th>Germany</th>\n",
       "      <td>3999654</td>\n",
       "      <td>0</td>\n",
       "      <td>92334</td>\n",
       "    </tr>\n",
       "    <tr>\n",
       "      <th>India</th>\n",
       "      <td>32945907</td>\n",
       "      <td>0</td>\n",
       "      <td>440225</td>\n",
       "    </tr>\n",
       "    <tr>\n",
       "      <th>Italy</th>\n",
       "      <td>4566126</td>\n",
       "      <td>0</td>\n",
       "      <td>129466</td>\n",
       "    </tr>\n",
       "    <tr>\n",
       "      <th>Japan</th>\n",
       "      <td>1562476</td>\n",
       "      <td>0</td>\n",
       "      <td>16339</td>\n",
       "    </tr>\n",
       "    <tr>\n",
       "      <th>Mexico</th>\n",
       "      <td>3405294</td>\n",
       "      <td>0</td>\n",
       "      <td>262221</td>\n",
       "    </tr>\n",
       "    <tr>\n",
       "      <th>Netherlands</th>\n",
       "      <td>1987668</td>\n",
       "      <td>0</td>\n",
       "      <td>18405</td>\n",
       "    </tr>\n",
       "    <tr>\n",
       "      <th>New Zealand</th>\n",
       "      <td>1</td>\n",
       "      <td>0</td>\n",
       "      <td>0</td>\n",
       "    </tr>\n",
       "    <tr>\n",
       "      <th>Pakistan</th>\n",
       "      <td>1175558</td>\n",
       "      <td>0</td>\n",
       "      <td>26114</td>\n",
       "    </tr>\n",
       "    <tr>\n",
       "      <th>Peru</th>\n",
       "      <td>2153092</td>\n",
       "      <td>0</td>\n",
       "      <td>198420</td>\n",
       "    </tr>\n",
       "    <tr>\n",
       "      <th>Russia</th>\n",
       "      <td>6894113</td>\n",
       "      <td>0</td>\n",
       "      <td>183117</td>\n",
       "    </tr>\n",
       "    <tr>\n",
       "      <th>Spain</th>\n",
       "      <td>4877755</td>\n",
       "      <td>0</td>\n",
       "      <td>84795</td>\n",
       "    </tr>\n",
       "    <tr>\n",
       "      <th>Sweden</th>\n",
       "      <td>1130525</td>\n",
       "      <td>0</td>\n",
       "      <td>14692</td>\n",
       "    </tr>\n",
       "    <tr>\n",
       "      <th>US</th>\n",
       "      <td>39867446</td>\n",
       "      <td>0</td>\n",
       "      <td>647672</td>\n",
       "    </tr>\n",
       "    <tr>\n",
       "      <th>Ukraine</th>\n",
       "      <td>2395616</td>\n",
       "      <td>0</td>\n",
       "      <td>57236</td>\n",
       "    </tr>\n",
       "    <tr>\n",
       "      <th>United Kingdom</th>\n",
       "      <td>6973945</td>\n",
       "      <td>0</td>\n",
       "      <td>133485</td>\n",
       "    </tr>\n",
       "  </tbody>\n",
       "</table>\n",
       "</div>"
      ],
      "text/plain": [
       "                Confirmed  Recovered  Deaths\n",
       "Country_Region                              \n",
       "Australia           59951          0    1036\n",
       "Belgium           1192008          0   25397\n",
       "Brazil           20856060          0  582670\n",
       "Canada            1519744          0   27064\n",
       "Chile             1640666          0   37067\n",
       "China              107158          0    4848\n",
       "Colombia          4914881          0  125158\n",
       "Denmark              1349          0       2\n",
       "France             234655          0    2227\n",
       "Germany           3999654          0   92334\n",
       "India            32945907          0  440225\n",
       "Italy             4566126          0  129466\n",
       "Japan             1562476          0   16339\n",
       "Mexico            3405294          0  262221\n",
       "Netherlands       1987668          0   18405\n",
       "New Zealand             1          0       0\n",
       "Pakistan          1175558          0   26114\n",
       "Peru              2153092          0  198420\n",
       "Russia            6894113          0  183117\n",
       "Spain             4877755          0   84795\n",
       "Sweden            1130525          0   14692\n",
       "US               39867446          0  647672\n",
       "Ukraine           2395616          0   57236\n",
       "United Kingdom    6973945          0  133485"
      ]
     },
     "execution_count": 19,
     "metadata": {},
     "output_type": "execute_result"
    }
   ],
   "source": [
    "df_global[~pd.isnull(df_global['Province_State'])].groupby('Country_Region').sum()[['Confirmed', 'Recovered', 'Deaths']]"
   ]
  },
  {
   "cell_type": "code",
   "execution_count": 22,
   "metadata": {},
   "outputs": [
    {
     "data": {
      "text/plain": [
       "<FeatureSet> 60 features"
      ]
     },
     "execution_count": 22,
     "metadata": {},
     "output_type": "execute_result"
    }
   ],
   "source": [
    "fset_usa = fl.query(where=\"Country_Region='US'\")\n",
    "fset_usa"
   ]
  },
  {
   "cell_type": "code",
   "execution_count": 79,
   "metadata": {},
   "outputs": [
    {
     "data": {
      "text/plain": [
       "<FeatureSet> 3 features"
      ]
     },
     "execution_count": 79,
     "metadata": {},
     "output_type": "execute_result"
    }
   ],
   "source": [
    "fset_denmark = fl.query(where=\"Country_Region='Denmark'\")\n",
    "fset_denmark"
   ]
  },
  {
   "cell_type": "code",
   "execution_count": 25,
   "metadata": {},
   "outputs": [
    {
     "name": "stderr",
     "output_type": "stream",
     "text": [
      "/Users/bonnie/opt/anaconda3/lib/python3.7/site-packages/arcgis/features/layer.py:1423: FutureWarning: The pandas.datetime class is deprecated and will be removed from pandas in a future version. Import from datetime module instead.\n",
      "  \"esriFieldTypeDate\" : pd.datetime,\n"
     ]
    }
   ],
   "source": [
    "df_cruise_ships = fl.query(where=\"Province_State='Diamond Princess' or \\\n",
    "                                  Province_State='Grand Princess' or \\\n",
    "                                  Country_Region='MS Zaandam' or \\\n",
    "                                  Country_Region='Diamond Princess'\",\n",
    "                           as_df=True)"
   ]
  },
  {
   "cell_type": "code",
   "execution_count": 26,
   "metadata": {},
   "outputs": [
    {
     "data": {
      "text/html": [
       "<div>\n",
       "<style scoped>\n",
       "    .dataframe tbody tr th:only-of-type {\n",
       "        vertical-align: middle;\n",
       "    }\n",
       "\n",
       "    .dataframe tbody tr th {\n",
       "        vertical-align: top;\n",
       "    }\n",
       "\n",
       "    .dataframe thead th {\n",
       "        text-align: right;\n",
       "    }\n",
       "</style>\n",
       "<table border=\"1\" class=\"dataframe\">\n",
       "  <thead>\n",
       "    <tr style=\"text-align: right;\">\n",
       "      <th></th>\n",
       "      <th>Province_State</th>\n",
       "      <th>Country_Region</th>\n",
       "      <th>Last_Update</th>\n",
       "      <th>Confirmed</th>\n",
       "      <th>Recovered</th>\n",
       "      <th>Deaths</th>\n",
       "    </tr>\n",
       "  </thead>\n",
       "  <tbody>\n",
       "    <tr>\n",
       "      <th>0</th>\n",
       "      <td>Diamond Princess</td>\n",
       "      <td>Canada</td>\n",
       "      <td>2020-12-21 13:27:30</td>\n",
       "      <td>0</td>\n",
       "      <td>0</td>\n",
       "      <td>1</td>\n",
       "    </tr>\n",
       "    <tr>\n",
       "      <th>1</th>\n",
       "      <td>Grand Princess</td>\n",
       "      <td>Canada</td>\n",
       "      <td>2020-12-21 13:27:30</td>\n",
       "      <td>13</td>\n",
       "      <td>0</td>\n",
       "      <td>0</td>\n",
       "    </tr>\n",
       "    <tr>\n",
       "      <th>2</th>\n",
       "      <td>None</td>\n",
       "      <td>Diamond Princess</td>\n",
       "      <td>2021-09-04 16:21:25</td>\n",
       "      <td>712</td>\n",
       "      <td>0</td>\n",
       "      <td>13</td>\n",
       "    </tr>\n",
       "    <tr>\n",
       "      <th>3</th>\n",
       "      <td>None</td>\n",
       "      <td>MS Zaandam</td>\n",
       "      <td>2021-09-04 16:21:25</td>\n",
       "      <td>9</td>\n",
       "      <td>0</td>\n",
       "      <td>2</td>\n",
       "    </tr>\n",
       "    <tr>\n",
       "      <th>4</th>\n",
       "      <td>Grand Princess</td>\n",
       "      <td>US</td>\n",
       "      <td>2020-08-04 02:27:56</td>\n",
       "      <td>103</td>\n",
       "      <td>0</td>\n",
       "      <td>3</td>\n",
       "    </tr>\n",
       "    <tr>\n",
       "      <th>5</th>\n",
       "      <td>Diamond Princess</td>\n",
       "      <td>US</td>\n",
       "      <td>2020-08-04 02:27:56</td>\n",
       "      <td>49</td>\n",
       "      <td>0</td>\n",
       "      <td>0</td>\n",
       "    </tr>\n",
       "  </tbody>\n",
       "</table>\n",
       "</div>"
      ],
      "text/plain": [
       "     Province_State    Country_Region         Last_Update  Confirmed  \\\n",
       "0  Diamond Princess            Canada 2020-12-21 13:27:30          0   \n",
       "1    Grand Princess            Canada 2020-12-21 13:27:30         13   \n",
       "2              None  Diamond Princess 2021-09-04 16:21:25        712   \n",
       "3              None        MS Zaandam 2021-09-04 16:21:25          9   \n",
       "4    Grand Princess                US 2020-08-04 02:27:56        103   \n",
       "5  Diamond Princess                US 2020-08-04 02:27:56         49   \n",
       "\n",
       "   Recovered  Deaths  \n",
       "0          0       1  \n",
       "1          0       0  \n",
       "2          0      13  \n",
       "3          0       2  \n",
       "4          0       3  \n",
       "5          0       0  "
      ]
     },
     "execution_count": 26,
     "metadata": {},
     "output_type": "execute_result"
    }
   ],
   "source": [
    "df_cruise_ships[[\"Province_State\", \"Country_Region\", \"Last_Update\", \"Confirmed\", \"Recovered\", \"Deaths\"]]"
   ]
  },
  {
   "cell_type": "code",
   "execution_count": 27,
   "metadata": {},
   "outputs": [
    {
     "data": {
      "text/plain": [
       "<FeatureSet> 1 features"
      ]
     },
     "execution_count": 27,
     "metadata": {},
     "output_type": "execute_result"
    }
   ],
   "source": [
    "fl.query(where=\"Country_Region='Thailand'\")"
   ]
  },
  {
   "cell_type": "code",
   "execution_count": 65,
   "metadata": {},
   "outputs": [
    {
     "data": {
      "text/html": [
       "<div class=\"item_container\" style=\"height: auto; overflow: hidden; border: 1px solid #cfcfcf; border-radius: 2px; background: #f6fafa; line-height: 1.21429em; padding: 10px;\">\n",
       "                    <div class=\"item_left\" style=\"width: 210px; float: left;\">\n",
       "                       <a href='https://utoronto.maps.arcgis.com/home/item.html?id=d3fef65386df4e63b02d6e23bb98a1ee' target='_blank'>\n",
       "                        <img src='data:image/png;base64,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' width='200' height='133' class=\"itemThumbnail\">\n",
       "                       </a>\n",
       "                    </div>\n",
       "\n",
       "                    <div class=\"item_right\"     style=\"float: none; width: auto; overflow: hidden;\">\n",
       "                        <a href='https://utoronto.maps.arcgis.com/home/item.html?id=d3fef65386df4e63b02d6e23bb98a1ee' target='_blank'><b>Provinces and Territories of Canada</b>\n",
       "                        </a>\n",
       "                        <br/>A generalized layer depicting the provinces and territories of Canada<img src='https://utoronto.maps.arcgis.com/home/js/jsapi/esri/css/images/item_type_icons/featureshosted16.png' style=\"vertical-align:middle;\">Feature Layer Collection by esri_canada\n",
       "                        <br/>Last Modified: May 13, 2020\n",
       "                        <br/>2 comments, 1872279 views\n",
       "                    </div>\n",
       "                </div>\n",
       "                "
      ],
      "text/plain": [
       "<Item title:\"Provinces and Territories of Canada\" type:Feature Layer Collection owner:esri_canada>"
      ]
     },
     "execution_count": 65,
     "metadata": {},
     "output_type": "execute_result"
    }
   ],
   "source": [
    "# Query the reference feature layer of Canada\n",
    "ca_province_item = gis.content.get('d3fef65386df4e63b02d6e23bb98a1ee')\n",
    "ca_province_item"
   ]
  },
  {
   "cell_type": "code",
   "execution_count": 124,
   "metadata": {},
   "outputs": [
    {
     "name": "stderr",
     "output_type": "stream",
     "text": [
      "/Users/bonnie/opt/anaconda3/lib/python3.7/site-packages/arcgis/features/layer.py:1423: FutureWarning: The pandas.datetime class is deprecated and will be removed from pandas in a future version. Import from datetime module instead.\n",
      "  \"esriFieldTypeDate\" : pd.datetime,\n"
     ]
    },
    {
     "data": {
      "text/html": [
       "<div>\n",
       "<style scoped>\n",
       "    .dataframe tbody tr th:only-of-type {\n",
       "        vertical-align: middle;\n",
       "    }\n",
       "\n",
       "    .dataframe tbody tr th {\n",
       "        vertical-align: top;\n",
       "    }\n",
       "\n",
       "    .dataframe thead th {\n",
       "        text-align: right;\n",
       "    }\n",
       "</style>\n",
       "<table border=\"1\" class=\"dataframe\">\n",
       "  <thead>\n",
       "    <tr style=\"text-align: right;\">\n",
       "      <th></th>\n",
       "      <th>FID</th>\n",
       "      <th>OBJECTID</th>\n",
       "      <th>type</th>\n",
       "      <th>type_en</th>\n",
       "      <th>postal</th>\n",
       "      <th>Shape_Leng</th>\n",
       "      <th>Shape_Area</th>\n",
       "      <th>Name_EN</th>\n",
       "      <th>Nom_Fr</th>\n",
       "      <th>SHAPE</th>\n",
       "    </tr>\n",
       "  </thead>\n",
       "  <tbody>\n",
       "    <tr>\n",
       "      <th>0</th>\n",
       "      <td>1</td>\n",
       "      <td>2</td>\n",
       "      <td>Province</td>\n",
       "      <td>Province</td>\n",
       "      <td>MB</td>\n",
       "      <td>7.174885e+06</td>\n",
       "      <td>1.987391e+12</td>\n",
       "      <td>Manitoba</td>\n",
       "      <td>Manitoba</td>\n",
       "      <td>{'rings': [[[-9901534.70535117, 7730176.501052...</td>\n",
       "    </tr>\n",
       "    <tr>\n",
       "      <th>1</th>\n",
       "      <td>2</td>\n",
       "      <td>3</td>\n",
       "      <td>Province</td>\n",
       "      <td>Province</td>\n",
       "      <td>SK</td>\n",
       "      <td>6.105909e+06</td>\n",
       "      <td>1.936261e+12</td>\n",
       "      <td>Saskatchewan</td>\n",
       "      <td>Saskatchewan</td>\n",
       "      <td>{'rings': [[[-11283826.6740758, 6273617.666091...</td>\n",
       "    </tr>\n",
       "    <tr>\n",
       "      <th>2</th>\n",
       "      <td>3</td>\n",
       "      <td>4</td>\n",
       "      <td>Province</td>\n",
       "      <td>Province</td>\n",
       "      <td>AB</td>\n",
       "      <td>6.480084e+06</td>\n",
       "      <td>2.046155e+12</td>\n",
       "      <td>Alberta</td>\n",
       "      <td>Alberta</td>\n",
       "      <td>{'rings': [[[-12245068.4111107, 6273608.898894...</td>\n",
       "    </tr>\n",
       "    <tr>\n",
       "      <th>3</th>\n",
       "      <td>4</td>\n",
       "      <td>5</td>\n",
       "      <td>Province</td>\n",
       "      <td>Province</td>\n",
       "      <td>BC</td>\n",
       "      <td>2.995914e+07</td>\n",
       "      <td>2.864108e+12</td>\n",
       "      <td>British Columbia</td>\n",
       "      <td>Colombie-Britannique</td>\n",
       "      <td>{'rings': [[[-13718912.1255787, 6177039.990696...</td>\n",
       "    </tr>\n",
       "    <tr>\n",
       "      <th>4</th>\n",
       "      <td>5</td>\n",
       "      <td>6</td>\n",
       "      <td>Territoire</td>\n",
       "      <td>Territory</td>\n",
       "      <td>NU</td>\n",
       "      <td>2.710973e+08</td>\n",
       "      <td>2.270183e+13</td>\n",
       "      <td>Nunavut</td>\n",
       "      <td>Nunavut</td>\n",
       "      <td>{'rings': [[[-8802092.92058305, 6735898.706205...</td>\n",
       "    </tr>\n",
       "    <tr>\n",
       "      <th>5</th>\n",
       "      <td>6</td>\n",
       "      <td>7</td>\n",
       "      <td>Territoire</td>\n",
       "      <td>Territory</td>\n",
       "      <td>NT</td>\n",
       "      <td>5.378878e+07</td>\n",
       "      <td>8.759245e+12</td>\n",
       "      <td>Northwest Territories</td>\n",
       "      <td>Territoires du Nord-Ouest</td>\n",
       "      <td>{'rings': [[[-15146891.140271, 10790828.976773...</td>\n",
       "    </tr>\n",
       "    <tr>\n",
       "      <th>6</th>\n",
       "      <td>7</td>\n",
       "      <td>8</td>\n",
       "      <td>Territoire</td>\n",
       "      <td>Territory</td>\n",
       "      <td>YT</td>\n",
       "      <td>9.703122e+06</td>\n",
       "      <td>2.472298e+12</td>\n",
       "      <td>Yukon</td>\n",
       "      <td>Yukon</td>\n",
       "      <td>{'rings': [[[-15683844.2734605, 10948443.68825...</td>\n",
       "    </tr>\n",
       "    <tr>\n",
       "      <th>7</th>\n",
       "      <td>8</td>\n",
       "      <td>9</td>\n",
       "      <td>Province</td>\n",
       "      <td>Province</td>\n",
       "      <td>ON</td>\n",
       "      <td>9.645718e+06</td>\n",
       "      <td>2.634173e+12</td>\n",
       "      <td>Ontario</td>\n",
       "      <td>Ontario</td>\n",
       "      <td>{'rings': [[[-8852214.91079477, 6615242.532552...</td>\n",
       "    </tr>\n",
       "    <tr>\n",
       "      <th>8</th>\n",
       "      <td>9</td>\n",
       "      <td>10</td>\n",
       "      <td>Province</td>\n",
       "      <td>Province</td>\n",
       "      <td>QC</td>\n",
       "      <td>2.857808e+07</td>\n",
       "      <td>4.296852e+12</td>\n",
       "      <td>Québec</td>\n",
       "      <td>Québec</td>\n",
       "      <td>{'rings': [[[-8230747.08357767, 5670496.658369...</td>\n",
       "    </tr>\n",
       "    <tr>\n",
       "      <th>9</th>\n",
       "      <td>10</td>\n",
       "      <td>11</td>\n",
       "      <td>Province</td>\n",
       "      <td>Province</td>\n",
       "      <td>NB</td>\n",
       "      <td>3.044798e+06</td>\n",
       "      <td>1.541619e+11</td>\n",
       "      <td>New Brunswick</td>\n",
       "      <td>Nouveau-Brunswick</td>\n",
       "      <td>{'rings': [[[-7432741.51518457, 5589409.025508...</td>\n",
       "    </tr>\n",
       "    <tr>\n",
       "      <th>10</th>\n",
       "      <td>11</td>\n",
       "      <td>12</td>\n",
       "      <td>Province</td>\n",
       "      <td>Province</td>\n",
       "      <td>NS</td>\n",
       "      <td>5.853202e+06</td>\n",
       "      <td>1.108453e+11</td>\n",
       "      <td>Nova Scotia</td>\n",
       "      <td>Nouvelle-Écosse</td>\n",
       "      <td>{'rings': [[[-7303736.92286754, 5377372.138558...</td>\n",
       "    </tr>\n",
       "    <tr>\n",
       "      <th>11</th>\n",
       "      <td>12</td>\n",
       "      <td>13</td>\n",
       "      <td>Province</td>\n",
       "      <td>Province</td>\n",
       "      <td>NL</td>\n",
       "      <td>2.939165e+07</td>\n",
       "      <td>1.113019e+12</td>\n",
       "      <td>Newfoundland and Labrador</td>\n",
       "      <td>Terre-Neuve-et-Labrador</td>\n",
       "      <td>{'rings': [[[-6100127.70123468, 5981762.739132...</td>\n",
       "    </tr>\n",
       "    <tr>\n",
       "      <th>12</th>\n",
       "      <td>13</td>\n",
       "      <td>14</td>\n",
       "      <td>Province</td>\n",
       "      <td>Province</td>\n",
       "      <td>PE</td>\n",
       "      <td>1.334824e+06</td>\n",
       "      <td>1.205146e+10</td>\n",
       "      <td>Prince Edward Island</td>\n",
       "      <td>|Île du Prince-Édouard</td>\n",
       "      <td>{'rings': [[[-6902255.67828035, 5855029.064068...</td>\n",
       "    </tr>\n",
       "  </tbody>\n",
       "</table>\n",
       "</div>"
      ],
      "text/plain": [
       "    FID  OBJECTID        type    type_en postal    Shape_Leng    Shape_Area  \\\n",
       "0     1         2    Province   Province     MB  7.174885e+06  1.987391e+12   \n",
       "1     2         3    Province   Province     SK  6.105909e+06  1.936261e+12   \n",
       "2     3         4    Province   Province     AB  6.480084e+06  2.046155e+12   \n",
       "3     4         5    Province   Province     BC  2.995914e+07  2.864108e+12   \n",
       "4     5         6  Territoire  Territory     NU  2.710973e+08  2.270183e+13   \n",
       "5     6         7  Territoire  Territory     NT  5.378878e+07  8.759245e+12   \n",
       "6     7         8  Territoire  Territory     YT  9.703122e+06  2.472298e+12   \n",
       "7     8         9    Province   Province     ON  9.645718e+06  2.634173e+12   \n",
       "8     9        10    Province   Province     QC  2.857808e+07  4.296852e+12   \n",
       "9    10        11    Province   Province     NB  3.044798e+06  1.541619e+11   \n",
       "10   11        12    Province   Province     NS  5.853202e+06  1.108453e+11   \n",
       "11   12        13    Province   Province     NL  2.939165e+07  1.113019e+12   \n",
       "12   13        14    Province   Province     PE  1.334824e+06  1.205146e+10   \n",
       "\n",
       "                      Name_EN                     Nom_Fr  \\\n",
       "0                    Manitoba                   Manitoba   \n",
       "1                Saskatchewan               Saskatchewan   \n",
       "2                     Alberta                    Alberta   \n",
       "3            British Columbia       Colombie-Britannique   \n",
       "4                     Nunavut                    Nunavut   \n",
       "5       Northwest Territories  Territoires du Nord-Ouest   \n",
       "6                       Yukon                      Yukon   \n",
       "7                     Ontario                    Ontario   \n",
       "8                      Québec                     Québec   \n",
       "9               New Brunswick          Nouveau-Brunswick   \n",
       "10                Nova Scotia            Nouvelle-Écosse   \n",
       "11  Newfoundland and Labrador    Terre-Neuve-et-Labrador   \n",
       "12       Prince Edward Island     |Île du Prince-Édouard   \n",
       "\n",
       "                                                SHAPE  \n",
       "0   {'rings': [[[-9901534.70535117, 7730176.501052...  \n",
       "1   {'rings': [[[-11283826.6740758, 6273617.666091...  \n",
       "2   {'rings': [[[-12245068.4111107, 6273608.898894...  \n",
       "3   {'rings': [[[-13718912.1255787, 6177039.990696...  \n",
       "4   {'rings': [[[-8802092.92058305, 6735898.706205...  \n",
       "5   {'rings': [[[-15146891.140271, 10790828.976773...  \n",
       "6   {'rings': [[[-15683844.2734605, 10948443.68825...  \n",
       "7   {'rings': [[[-8852214.91079477, 6615242.532552...  \n",
       "8   {'rings': [[[-8230747.08357767, 5670496.658369...  \n",
       "9   {'rings': [[[-7432741.51518457, 5589409.025508...  \n",
       "10  {'rings': [[[-7303736.92286754, 5377372.138558...  \n",
       "11  {'rings': [[[-6100127.70123468, 5981762.739132...  \n",
       "12  {'rings': [[[-6902255.67828035, 5855029.064068...  "
      ]
     },
     "execution_count": 124,
     "metadata": {},
     "output_type": "execute_result"
    }
   ],
   "source": [
    "provinces_flayer = ca_province_item.layers[0]\n",
    "provinces_df = provinces_flayer.query(as_df=True)\n",
    "provinces_df.columns"
   ]
  },
  {
   "cell_type": "code",
   "execution_count": 70,
   "metadata": {},
   "outputs": [
    {
     "data": {
      "text/plain": [
       "(13, 10)"
      ]
     },
     "execution_count": 70,
     "metadata": {},
     "output_type": "execute_result"
    }
   ],
   "source": [
    "tmp = provinces_df.sort_values('Name_EN', ascending=True)\n",
    "provinces_df = tmp.drop_duplicates(subset='Name_EN', keep='last')\n",
    "provinces_df.shape"
   ]
  },
  {
   "cell_type": "code",
   "execution_count": 102,
   "metadata": {
    "scrolled": false
   },
   "outputs": [
    {
     "name": "stderr",
     "output_type": "stream",
     "text": [
      "/Users/bonnie/opt/anaconda3/lib/python3.7/site-packages/arcgis/features/layer.py:1423: FutureWarning: The pandas.datetime class is deprecated and will be removed from pandas in a future version. Import from datetime module instead.\n",
      "  \"esriFieldTypeDate\" : pd.datetime,\n"
     ]
    },
    {
     "data": {
      "text/html": [
       "<div>\n",
       "<style scoped>\n",
       "    .dataframe tbody tr th:only-of-type {\n",
       "        vertical-align: middle;\n",
       "    }\n",
       "\n",
       "    .dataframe tbody tr th {\n",
       "        vertical-align: top;\n",
       "    }\n",
       "\n",
       "    .dataframe thead th {\n",
       "        text-align: right;\n",
       "    }\n",
       "</style>\n",
       "<table border=\"1\" class=\"dataframe\">\n",
       "  <thead>\n",
       "    <tr style=\"text-align: right;\">\n",
       "      <th></th>\n",
       "      <th>Province_State</th>\n",
       "      <th>Confirmed</th>\n",
       "      <th>Recovered</th>\n",
       "      <th>Deaths</th>\n",
       "      <th>Name_EN</th>\n",
       "    </tr>\n",
       "  </thead>\n",
       "  <tbody>\n",
       "    <tr>\n",
       "      <th>0</th>\n",
       "      <td>Alberta</td>\n",
       "      <td>256985</td>\n",
       "      <td>0</td>\n",
       "      <td>2390</td>\n",
       "      <td>Alberta</td>\n",
       "    </tr>\n",
       "    <tr>\n",
       "      <th>1</th>\n",
       "      <td>British Columbia</td>\n",
       "      <td>168325</td>\n",
       "      <td>0</td>\n",
       "      <td>1827</td>\n",
       "      <td>British Columbia</td>\n",
       "    </tr>\n",
       "    <tr>\n",
       "      <th>2</th>\n",
       "      <td>Diamond Princess</td>\n",
       "      <td>0</td>\n",
       "      <td>0</td>\n",
       "      <td>1</td>\n",
       "      <td>Diamond Princess</td>\n",
       "    </tr>\n",
       "    <tr>\n",
       "      <th>3</th>\n",
       "      <td>Grand Princess</td>\n",
       "      <td>13</td>\n",
       "      <td>0</td>\n",
       "      <td>0</td>\n",
       "      <td>Grand Princess</td>\n",
       "    </tr>\n",
       "    <tr>\n",
       "      <th>4</th>\n",
       "      <td>Manitoba</td>\n",
       "      <td>58845</td>\n",
       "      <td>0</td>\n",
       "      <td>1192</td>\n",
       "      <td>Manitoba</td>\n",
       "    </tr>\n",
       "  </tbody>\n",
       "</table>\n",
       "</div>"
      ],
      "text/plain": [
       "     Province_State  Confirmed  Recovered  Deaths           Name_EN\n",
       "0           Alberta     256985          0    2390           Alberta\n",
       "1  British Columbia     168325          0    1827  British Columbia\n",
       "2  Diamond Princess          0          0       1  Diamond Princess\n",
       "3    Grand Princess         13          0       0    Grand Princess\n",
       "4          Manitoba      58845          0    1192          Manitoba"
      ]
     },
     "execution_count": 102,
     "metadata": {},
     "output_type": "execute_result"
    }
   ],
   "source": [
    "# DataFrame Merging for Canada Dataset\n",
    "df_canada = fl.query(where=\"Country_Region='Canada'\",as_df=True)\n",
    "df_canada = df_canada[['Province_State', 'Confirmed', 'Recovered', 'Deaths']]\n",
    "df_canada = df_canada.assign(Name_EN = df_canada[\"Province_State\"])\n",
    "df_canada.head()"
   ]
  },
  {
   "cell_type": "code",
   "execution_count": 106,
   "metadata": {},
   "outputs": [],
   "source": [
    "cols_2 = ['Name_EN', 'Shape_Area', 'Shape_Leng','SHAPE','type','postal']"
   ]
  },
  {
   "cell_type": "code",
   "execution_count": 107,
   "metadata": {
    "scrolled": true
   },
   "outputs": [
    {
     "data": {
      "text/html": [
       "<div>\n",
       "<style scoped>\n",
       "    .dataframe tbody tr th:only-of-type {\n",
       "        vertical-align: middle;\n",
       "    }\n",
       "\n",
       "    .dataframe tbody tr th {\n",
       "        vertical-align: top;\n",
       "    }\n",
       "\n",
       "    .dataframe thead th {\n",
       "        text-align: right;\n",
       "    }\n",
       "</style>\n",
       "<table border=\"1\" class=\"dataframe\">\n",
       "  <thead>\n",
       "    <tr style=\"text-align: right;\">\n",
       "      <th></th>\n",
       "      <th>Name_EN</th>\n",
       "      <th>Shape_Area</th>\n",
       "      <th>Shape_Leng</th>\n",
       "      <th>SHAPE</th>\n",
       "      <th>type</th>\n",
       "      <th>postal</th>\n",
       "      <th>Province_State</th>\n",
       "      <th>Confirmed</th>\n",
       "      <th>Recovered</th>\n",
       "      <th>Deaths</th>\n",
       "    </tr>\n",
       "  </thead>\n",
       "  <tbody>\n",
       "    <tr>\n",
       "      <th>0</th>\n",
       "      <td>Alberta</td>\n",
       "      <td>2.046155e+12</td>\n",
       "      <td>6.480084e+06</td>\n",
       "      <td>{'rings': [[[-12245068.4111107, 6273608.898894...</td>\n",
       "      <td>Province</td>\n",
       "      <td>AB</td>\n",
       "      <td>Alberta</td>\n",
       "      <td>256985</td>\n",
       "      <td>0</td>\n",
       "      <td>2390</td>\n",
       "    </tr>\n",
       "    <tr>\n",
       "      <th>1</th>\n",
       "      <td>British Columbia</td>\n",
       "      <td>2.864108e+12</td>\n",
       "      <td>2.995914e+07</td>\n",
       "      <td>{'rings': [[[-13718912.1255787, 6177039.990696...</td>\n",
       "      <td>Province</td>\n",
       "      <td>BC</td>\n",
       "      <td>British Columbia</td>\n",
       "      <td>168325</td>\n",
       "      <td>0</td>\n",
       "      <td>1827</td>\n",
       "    </tr>\n",
       "    <tr>\n",
       "      <th>2</th>\n",
       "      <td>Manitoba</td>\n",
       "      <td>1.987391e+12</td>\n",
       "      <td>7.174885e+06</td>\n",
       "      <td>{'rings': [[[-9901534.70535117, 7730176.501052...</td>\n",
       "      <td>Province</td>\n",
       "      <td>MB</td>\n",
       "      <td>Manitoba</td>\n",
       "      <td>58845</td>\n",
       "      <td>0</td>\n",
       "      <td>1192</td>\n",
       "    </tr>\n",
       "    <tr>\n",
       "      <th>3</th>\n",
       "      <td>New Brunswick</td>\n",
       "      <td>1.541619e+11</td>\n",
       "      <td>3.044798e+06</td>\n",
       "      <td>{'rings': [[[-7432741.51518457, 5589409.025508...</td>\n",
       "      <td>Province</td>\n",
       "      <td>NB</td>\n",
       "      <td>New Brunswick</td>\n",
       "      <td>2798</td>\n",
       "      <td>0</td>\n",
       "      <td>46</td>\n",
       "    </tr>\n",
       "    <tr>\n",
       "      <th>4</th>\n",
       "      <td>Newfoundland and Labrador</td>\n",
       "      <td>1.113019e+12</td>\n",
       "      <td>2.939165e+07</td>\n",
       "      <td>{'rings': [[[-6100127.70123468, 5981762.739132...</td>\n",
       "      <td>Province</td>\n",
       "      <td>NL</td>\n",
       "      <td>Newfoundland and Labrador</td>\n",
       "      <td>1491</td>\n",
       "      <td>0</td>\n",
       "      <td>7</td>\n",
       "    </tr>\n",
       "  </tbody>\n",
       "</table>\n",
       "</div>"
      ],
      "text/plain": [
       "                     Name_EN    Shape_Area    Shape_Leng  \\\n",
       "0                    Alberta  2.046155e+12  6.480084e+06   \n",
       "1           British Columbia  2.864108e+12  2.995914e+07   \n",
       "2                   Manitoba  1.987391e+12  7.174885e+06   \n",
       "3              New Brunswick  1.541619e+11  3.044798e+06   \n",
       "4  Newfoundland and Labrador  1.113019e+12  2.939165e+07   \n",
       "\n",
       "                                               SHAPE      type postal  \\\n",
       "0  {'rings': [[[-12245068.4111107, 6273608.898894...  Province     AB   \n",
       "1  {'rings': [[[-13718912.1255787, 6177039.990696...  Province     BC   \n",
       "2  {'rings': [[[-9901534.70535117, 7730176.501052...  Province     MB   \n",
       "3  {'rings': [[[-7432741.51518457, 5589409.025508...  Province     NB   \n",
       "4  {'rings': [[[-6100127.70123468, 5981762.739132...  Province     NL   \n",
       "\n",
       "              Province_State  Confirmed  Recovered  Deaths  \n",
       "0                    Alberta     256985          0    2390  \n",
       "1           British Columbia     168325          0    1827  \n",
       "2                   Manitoba      58845          0    1192  \n",
       "3              New Brunswick       2798          0      46  \n",
       "4  Newfoundland and Labrador       1491          0       7  "
      ]
     },
     "execution_count": 107,
     "metadata": {},
     "output_type": "execute_result"
    }
   ],
   "source": [
    "overlap_rows_canada = pd.merge(left = provinces_df[cols_2], right = df_canada, \n",
    "                              how='inner', on = 'Name_EN')\n",
    "overlap_rows_canada.head()"
   ]
  },
  {
   "cell_type": "code",
   "execution_count": null,
   "metadata": {},
   "outputs": [],
   "source": []
  },
  {
   "cell_type": "code",
   "execution_count": 112,
   "metadata": {},
   "outputs": [
    {
     "data": {
      "text/html": [
       "<div class=\"item_container\" style=\"height: auto; overflow: hidden; border: 1px solid #cfcfcf; border-radius: 2px; background: #f6fafa; line-height: 1.21429em; padding: 10px;\">\n",
       "                    <div class=\"item_left\" style=\"width: 210px; float: left;\">\n",
       "                       <a href='https://utoronto.maps.arcgis.com/home/item.html?id=1eb0511ee53a47b386e98e9c4663127b' target='_blank'>\n",
       "                        <img src='data:image/png;base64,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' width='200' height='133' class=\"itemThumbnail\">\n",
       "                       </a>\n",
       "                    </div>\n",
       "\n",
       "                    <div class=\"item_right\"     style=\"float: none; width: auto; overflow: hidden;\">\n",
       "                        <a href='https://utoronto.maps.arcgis.com/home/item.html?id=1eb0511ee53a47b386e98e9c4663127b' target='_blank'><b>Australia State Boundaries 2020</b>\n",
       "                        </a>\n",
       "                        <br/>This layer shows the State level boundaries of Australia in 2020, designed to be used in Data Enrichment analysis.<img src='https://utoronto.maps.arcgis.com/home/js/jsapi/esri/css/images/item_type_icons/featureshosted16.png' style=\"vertical-align:middle;\">Feature Layer Collection by esri_dm\n",
       "                        <br/>Last Modified: September 02, 2021\n",
       "                        <br/>0 comments, 40 views\n",
       "                    </div>\n",
       "                </div>\n",
       "                "
      ],
      "text/plain": [
       "<Item title:\"Australia State Boundaries 2020\" type:Feature Layer Collection owner:esri_dm>"
      ]
     },
     "execution_count": 112,
     "metadata": {},
     "output_type": "execute_result"
    }
   ],
   "source": [
    "# Query the reference feature layer of Australia\n",
    "aus_states_item = gis.content.get('1eb0511ee53a47b386e98e9c4663127b')\n",
    "aus_states_item"
   ]
  },
  {
   "cell_type": "code",
   "execution_count": 128,
   "metadata": {
    "scrolled": true
   },
   "outputs": [
    {
     "name": "stderr",
     "output_type": "stream",
     "text": [
      "/Users/bonnie/opt/anaconda3/lib/python3.7/site-packages/arcgis/features/layer.py:1423: FutureWarning: The pandas.datetime class is deprecated and will be removed from pandas in a future version. Import from datetime module instead.\n",
      "  \"esriFieldTypeDate\" : pd.datetime,\n"
     ]
    },
    {
     "data": {
      "text/plain": [
       "Index(['OBJECTID', 'ID', 'NAME', 'AREA', 'TOTPOP_CY', 'ISO_CODE', 'ISO_SUB',\n",
       "       'ISO2_CC', 'ISO3_CC', 'Shape__Area', 'Shape__Length', 'SHAPE'],\n",
       "      dtype='object')"
      ]
     },
     "execution_count": 128,
     "metadata": {},
     "output_type": "execute_result"
    }
   ],
   "source": [
    "aus_states_flayer = aus_states_item.layers[2]\n",
    "aus_states_df = aus_states_flayer.query(as_df=True)\n",
    "aus_states_df.columns"
   ]
  },
  {
   "cell_type": "code",
   "execution_count": 129,
   "metadata": {},
   "outputs": [
    {
     "data": {
      "text/html": [
       "<div>\n",
       "<style scoped>\n",
       "    .dataframe tbody tr th:only-of-type {\n",
       "        vertical-align: middle;\n",
       "    }\n",
       "\n",
       "    .dataframe tbody tr th {\n",
       "        vertical-align: top;\n",
       "    }\n",
       "\n",
       "    .dataframe thead th {\n",
       "        text-align: right;\n",
       "    }\n",
       "</style>\n",
       "<table border=\"1\" class=\"dataframe\">\n",
       "  <thead>\n",
       "    <tr style=\"text-align: right;\">\n",
       "      <th></th>\n",
       "      <th>OBJECTID</th>\n",
       "      <th>ID</th>\n",
       "      <th>NAME</th>\n",
       "      <th>AREA</th>\n",
       "      <th>TOTPOP_CY</th>\n",
       "      <th>ISO_CODE</th>\n",
       "      <th>ISO_SUB</th>\n",
       "      <th>ISO2_CC</th>\n",
       "      <th>ISO3_CC</th>\n",
       "      <th>Shape__Area</th>\n",
       "      <th>Shape__Length</th>\n",
       "      <th>SHAPE</th>\n",
       "    </tr>\n",
       "  </thead>\n",
       "  <tbody>\n",
       "    <tr>\n",
       "      <th>0</th>\n",
       "      <td>1</td>\n",
       "      <td>1</td>\n",
       "      <td>New South Wales</td>\n",
       "      <td>8.008455e+05</td>\n",
       "      <td>8129009</td>\n",
       "      <td>AUNSW</td>\n",
       "      <td>NSW</td>\n",
       "      <td>AU</td>\n",
       "      <td>AUS</td>\n",
       "      <td>1.122920e+12</td>\n",
       "      <td>9.644242e+06</td>\n",
       "      <td>{'rings': [[[16703645.1077, -4475853.0507], [1...</td>\n",
       "    </tr>\n",
       "    <tr>\n",
       "      <th>1</th>\n",
       "      <td>2</td>\n",
       "      <td>2</td>\n",
       "      <td>Victoria</td>\n",
       "      <td>2.274952e+05</td>\n",
       "      <td>6644802</td>\n",
       "      <td>AUVIC</td>\n",
       "      <td>VIC</td>\n",
       "      <td>AU</td>\n",
       "      <td>AUS</td>\n",
       "      <td>3.561376e+11</td>\n",
       "      <td>6.324012e+06</td>\n",
       "      <td>{'rings': [[[16285504.4721, -4744453.0384], [1...</td>\n",
       "    </tr>\n",
       "    <tr>\n",
       "      <th>2</th>\n",
       "      <td>3</td>\n",
       "      <td>3</td>\n",
       "      <td>Queensland</td>\n",
       "      <td>1.730168e+06</td>\n",
       "      <td>5129791</td>\n",
       "      <td>AUQLD</td>\n",
       "      <td>QLD</td>\n",
       "      <td>AU</td>\n",
       "      <td>AUS</td>\n",
       "      <td>2.050544e+12</td>\n",
       "      <td>1.710215e+07</td>\n",
       "      <td>{'rings': [[[17077774.7245, -3240314.4403], [1...</td>\n",
       "    </tr>\n",
       "    <tr>\n",
       "      <th>3</th>\n",
       "      <td>4</td>\n",
       "      <td>4</td>\n",
       "      <td>South Australia</td>\n",
       "      <td>9.842817e+05</td>\n",
       "      <td>1756079</td>\n",
       "      <td>AUSA</td>\n",
       "      <td>SA</td>\n",
       "      <td>AU</td>\n",
       "      <td>AUS</td>\n",
       "      <td>1.323554e+12</td>\n",
       "      <td>9.970571e+06</td>\n",
       "      <td>{'rings': [[[15658300.314, -4588263.1137], [15...</td>\n",
       "    </tr>\n",
       "    <tr>\n",
       "      <th>4</th>\n",
       "      <td>5</td>\n",
       "      <td>5</td>\n",
       "      <td>Western Australia</td>\n",
       "      <td>2.526646e+06</td>\n",
       "      <td>2629391</td>\n",
       "      <td>AUWA</td>\n",
       "      <td>WA</td>\n",
       "      <td>AU</td>\n",
       "      <td>AUS</td>\n",
       "      <td>3.140951e+12</td>\n",
       "      <td>2.588493e+07</td>\n",
       "      <td>{'rings': [[[13121168.2698, -4189066.211], [13...</td>\n",
       "    </tr>\n",
       "    <tr>\n",
       "      <th>5</th>\n",
       "      <td>6</td>\n",
       "      <td>6</td>\n",
       "      <td>Tasmania</td>\n",
       "      <td>6.801757e+04</td>\n",
       "      <td>536606</td>\n",
       "      <td>AUTAS</td>\n",
       "      <td>TAS</td>\n",
       "      <td>AU</td>\n",
       "      <td>AUS</td>\n",
       "      <td>1.230496e+11</td>\n",
       "      <td>9.792041e+06</td>\n",
       "      <td>{'rings': [[[16294077.1742, -5425368.5557], [1...</td>\n",
       "    </tr>\n",
       "    <tr>\n",
       "      <th>6</th>\n",
       "      <td>7</td>\n",
       "      <td>7</td>\n",
       "      <td>Northern Territory</td>\n",
       "      <td>1.348088e+06</td>\n",
       "      <td>244543</td>\n",
       "      <td>AUNT</td>\n",
       "      <td>NT</td>\n",
       "      <td>AU</td>\n",
       "      <td>AUS</td>\n",
       "      <td>1.531500e+12</td>\n",
       "      <td>1.371298e+07</td>\n",
       "      <td>{'rings': [[[15259049.6029, -1788024.0168], [1...</td>\n",
       "    </tr>\n",
       "    <tr>\n",
       "      <th>7</th>\n",
       "      <td>8</td>\n",
       "      <td>8</td>\n",
       "      <td>Australian Capital Territory</td>\n",
       "      <td>2.358196e+03</td>\n",
       "      <td>429263</td>\n",
       "      <td>AUACT</td>\n",
       "      <td>ACT</td>\n",
       "      <td>AU</td>\n",
       "      <td>AUS</td>\n",
       "      <td>3.564915e+09</td>\n",
       "      <td>3.760147e+05</td>\n",
       "      <td>{'rings': [[[16600879.9624, -4181065.9785], [1...</td>\n",
       "    </tr>\n",
       "    <tr>\n",
       "      <th>8</th>\n",
       "      <td>9</td>\n",
       "      <td>9</td>\n",
       "      <td>Other Territories</td>\n",
       "      <td>6.781356e+01</td>\n",
       "      <td>397</td>\n",
       "      <td>AUACT</td>\n",
       "      <td>ACT</td>\n",
       "      <td>AU</td>\n",
       "      <td>AUS</td>\n",
       "      <td>1.016708e+08</td>\n",
       "      <td>8.228954e+04</td>\n",
       "      <td>{'rings': [[[16775280.3133, -4188899.7713], [1...</td>\n",
       "    </tr>\n",
       "  </tbody>\n",
       "</table>\n",
       "</div>"
      ],
      "text/plain": [
       "   OBJECTID ID                          NAME          AREA  TOTPOP_CY  \\\n",
       "0         1  1               New South Wales  8.008455e+05    8129009   \n",
       "1         2  2                      Victoria  2.274952e+05    6644802   \n",
       "2         3  3                    Queensland  1.730168e+06    5129791   \n",
       "3         4  4               South Australia  9.842817e+05    1756079   \n",
       "4         5  5             Western Australia  2.526646e+06    2629391   \n",
       "5         6  6                      Tasmania  6.801757e+04     536606   \n",
       "6         7  7            Northern Territory  1.348088e+06     244543   \n",
       "7         8  8  Australian Capital Territory  2.358196e+03     429263   \n",
       "8         9  9             Other Territories  6.781356e+01        397   \n",
       "\n",
       "  ISO_CODE ISO_SUB ISO2_CC ISO3_CC   Shape__Area  Shape__Length  \\\n",
       "0    AUNSW     NSW      AU     AUS  1.122920e+12   9.644242e+06   \n",
       "1    AUVIC     VIC      AU     AUS  3.561376e+11   6.324012e+06   \n",
       "2    AUQLD     QLD      AU     AUS  2.050544e+12   1.710215e+07   \n",
       "3     AUSA      SA      AU     AUS  1.323554e+12   9.970571e+06   \n",
       "4     AUWA      WA      AU     AUS  3.140951e+12   2.588493e+07   \n",
       "5    AUTAS     TAS      AU     AUS  1.230496e+11   9.792041e+06   \n",
       "6     AUNT      NT      AU     AUS  1.531500e+12   1.371298e+07   \n",
       "7    AUACT     ACT      AU     AUS  3.564915e+09   3.760147e+05   \n",
       "8    AUACT     ACT      AU     AUS  1.016708e+08   8.228954e+04   \n",
       "\n",
       "                                               SHAPE  \n",
       "0  {'rings': [[[16703645.1077, -4475853.0507], [1...  \n",
       "1  {'rings': [[[16285504.4721, -4744453.0384], [1...  \n",
       "2  {'rings': [[[17077774.7245, -3240314.4403], [1...  \n",
       "3  {'rings': [[[15658300.314, -4588263.1137], [15...  \n",
       "4  {'rings': [[[13121168.2698, -4189066.211], [13...  \n",
       "5  {'rings': [[[16294077.1742, -5425368.5557], [1...  \n",
       "6  {'rings': [[[15259049.6029, -1788024.0168], [1...  \n",
       "7  {'rings': [[[16600879.9624, -4181065.9785], [1...  \n",
       "8  {'rings': [[[16775280.3133, -4188899.7713], [1...  "
      ]
     },
     "execution_count": 129,
     "metadata": {},
     "output_type": "execute_result"
    }
   ],
   "source": [
    "aus_states_df"
   ]
  },
  {
   "cell_type": "code",
   "execution_count": 141,
   "metadata": {},
   "outputs": [
    {
     "data": {
      "text/plain": [
       "<FeatureSet> 8 features"
      ]
     },
     "execution_count": 141,
     "metadata": {},
     "output_type": "execute_result"
    }
   ],
   "source": [
    "fset_aus = fl.query(where=\"Country_Region='Australia'\")\n",
    "fset_aus"
   ]
  },
  {
   "cell_type": "code",
   "execution_count": 133,
   "metadata": {},
   "outputs": [
    {
     "data": {
      "text/html": [
       "<div>\n",
       "<style scoped>\n",
       "    .dataframe tbody tr th:only-of-type {\n",
       "        vertical-align: middle;\n",
       "    }\n",
       "\n",
       "    .dataframe tbody tr th {\n",
       "        vertical-align: top;\n",
       "    }\n",
       "\n",
       "    .dataframe thead th {\n",
       "        text-align: right;\n",
       "    }\n",
       "</style>\n",
       "<table border=\"1\" class=\"dataframe\">\n",
       "  <thead>\n",
       "    <tr style=\"text-align: right;\">\n",
       "      <th></th>\n",
       "      <th>Province_State</th>\n",
       "      <th>Confirmed</th>\n",
       "      <th>Recovered</th>\n",
       "      <th>Deaths</th>\n",
       "      <th>NAME</th>\n",
       "    </tr>\n",
       "  </thead>\n",
       "  <tbody>\n",
       "    <tr>\n",
       "      <th>0</th>\n",
       "      <td>Australian Capital Territory</td>\n",
       "      <td>483</td>\n",
       "      <td>0</td>\n",
       "      <td>3</td>\n",
       "      <td>Australian Capital Territory</td>\n",
       "    </tr>\n",
       "    <tr>\n",
       "      <th>1</th>\n",
       "      <td>New South Wales</td>\n",
       "      <td>32323</td>\n",
       "      <td>0</td>\n",
       "      <td>177</td>\n",
       "      <td>New South Wales</td>\n",
       "    </tr>\n",
       "    <tr>\n",
       "      <th>2</th>\n",
       "      <td>Northern Territory</td>\n",
       "      <td>202</td>\n",
       "      <td>0</td>\n",
       "      <td>0</td>\n",
       "      <td>Northern Territory</td>\n",
       "    </tr>\n",
       "    <tr>\n",
       "      <th>3</th>\n",
       "      <td>Queensland</td>\n",
       "      <td>1984</td>\n",
       "      <td>0</td>\n",
       "      <td>7</td>\n",
       "      <td>Queensland</td>\n",
       "    </tr>\n",
       "    <tr>\n",
       "      <th>4</th>\n",
       "      <td>South Australia</td>\n",
       "      <td>879</td>\n",
       "      <td>0</td>\n",
       "      <td>4</td>\n",
       "      <td>South Australia</td>\n",
       "    </tr>\n",
       "  </tbody>\n",
       "</table>\n",
       "</div>"
      ],
      "text/plain": [
       "                 Province_State  Confirmed  Recovered  Deaths  \\\n",
       "0  Australian Capital Territory        483          0       3   \n",
       "1               New South Wales      32323          0     177   \n",
       "2            Northern Territory        202          0       0   \n",
       "3                    Queensland       1984          0       7   \n",
       "4               South Australia        879          0       4   \n",
       "\n",
       "                           NAME  \n",
       "0  Australian Capital Territory  \n",
       "1               New South Wales  \n",
       "2            Northern Territory  \n",
       "3                    Queensland  \n",
       "4               South Australia  "
      ]
     },
     "execution_count": 133,
     "metadata": {},
     "output_type": "execute_result"
    }
   ],
   "source": [
    "# DataFrame Merging for Australia Dataset\n",
    "df_aus = fset_aus.sdf[['Province_State', 'Confirmed', 'Recovered', 'Deaths']]\n",
    "df_aus = df_aus.assign(NAME = df_aus[\"Province_State\"])\n",
    "df_aus.head()"
   ]
  },
  {
   "cell_type": "code",
   "execution_count": 134,
   "metadata": {},
   "outputs": [
    {
     "data": {
      "text/html": [
       "<div>\n",
       "<style scoped>\n",
       "    .dataframe tbody tr th:only-of-type {\n",
       "        vertical-align: middle;\n",
       "    }\n",
       "\n",
       "    .dataframe tbody tr th {\n",
       "        vertical-align: top;\n",
       "    }\n",
       "\n",
       "    .dataframe thead th {\n",
       "        text-align: right;\n",
       "    }\n",
       "</style>\n",
       "<table border=\"1\" class=\"dataframe\">\n",
       "  <thead>\n",
       "    <tr style=\"text-align: right;\">\n",
       "      <th></th>\n",
       "      <th>NAME</th>\n",
       "      <th>AREA</th>\n",
       "      <th>TOTPOP_CY</th>\n",
       "      <th>SHAPE</th>\n",
       "      <th>Shape__Area</th>\n",
       "      <th>Shape__Length</th>\n",
       "      <th>ISO_CODE</th>\n",
       "      <th>Province_State</th>\n",
       "      <th>Confirmed</th>\n",
       "      <th>Recovered</th>\n",
       "      <th>Deaths</th>\n",
       "    </tr>\n",
       "  </thead>\n",
       "  <tbody>\n",
       "    <tr>\n",
       "      <th>0</th>\n",
       "      <td>New South Wales</td>\n",
       "      <td>8.008455e+05</td>\n",
       "      <td>8129009</td>\n",
       "      <td>{'rings': [[[16703645.1077, -4475853.0507], [1...</td>\n",
       "      <td>1.122920e+12</td>\n",
       "      <td>9.644242e+06</td>\n",
       "      <td>AUNSW</td>\n",
       "      <td>New South Wales</td>\n",
       "      <td>32323</td>\n",
       "      <td>0</td>\n",
       "      <td>177</td>\n",
       "    </tr>\n",
       "    <tr>\n",
       "      <th>1</th>\n",
       "      <td>Victoria</td>\n",
       "      <td>2.274952e+05</td>\n",
       "      <td>6644802</td>\n",
       "      <td>{'rings': [[[16285504.4721, -4744453.0384], [1...</td>\n",
       "      <td>3.561376e+11</td>\n",
       "      <td>6.324012e+06</td>\n",
       "      <td>AUVIC</td>\n",
       "      <td>Victoria</td>\n",
       "      <td>22759</td>\n",
       "      <td>0</td>\n",
       "      <td>823</td>\n",
       "    </tr>\n",
       "    <tr>\n",
       "      <th>2</th>\n",
       "      <td>Queensland</td>\n",
       "      <td>1.730168e+06</td>\n",
       "      <td>5129791</td>\n",
       "      <td>{'rings': [[[17077774.7245, -3240314.4403], [1...</td>\n",
       "      <td>2.050544e+12</td>\n",
       "      <td>1.710215e+07</td>\n",
       "      <td>AUQLD</td>\n",
       "      <td>Queensland</td>\n",
       "      <td>1984</td>\n",
       "      <td>0</td>\n",
       "      <td>7</td>\n",
       "    </tr>\n",
       "    <tr>\n",
       "      <th>3</th>\n",
       "      <td>South Australia</td>\n",
       "      <td>9.842817e+05</td>\n",
       "      <td>1756079</td>\n",
       "      <td>{'rings': [[[15658300.314, -4588263.1137], [15...</td>\n",
       "      <td>1.323554e+12</td>\n",
       "      <td>9.970571e+06</td>\n",
       "      <td>AUSA</td>\n",
       "      <td>South Australia</td>\n",
       "      <td>879</td>\n",
       "      <td>0</td>\n",
       "      <td>4</td>\n",
       "    </tr>\n",
       "    <tr>\n",
       "      <th>4</th>\n",
       "      <td>Western Australia</td>\n",
       "      <td>2.526646e+06</td>\n",
       "      <td>2629391</td>\n",
       "      <td>{'rings': [[[13121168.2698, -4189066.211], [13...</td>\n",
       "      <td>3.140951e+12</td>\n",
       "      <td>2.588493e+07</td>\n",
       "      <td>AUWA</td>\n",
       "      <td>Western Australia</td>\n",
       "      <td>1086</td>\n",
       "      <td>0</td>\n",
       "      <td>9</td>\n",
       "    </tr>\n",
       "  </tbody>\n",
       "</table>\n",
       "</div>"
      ],
      "text/plain": [
       "                NAME          AREA  TOTPOP_CY  \\\n",
       "0    New South Wales  8.008455e+05    8129009   \n",
       "1           Victoria  2.274952e+05    6644802   \n",
       "2         Queensland  1.730168e+06    5129791   \n",
       "3    South Australia  9.842817e+05    1756079   \n",
       "4  Western Australia  2.526646e+06    2629391   \n",
       "\n",
       "                                               SHAPE   Shape__Area  \\\n",
       "0  {'rings': [[[16703645.1077, -4475853.0507], [1...  1.122920e+12   \n",
       "1  {'rings': [[[16285504.4721, -4744453.0384], [1...  3.561376e+11   \n",
       "2  {'rings': [[[17077774.7245, -3240314.4403], [1...  2.050544e+12   \n",
       "3  {'rings': [[[15658300.314, -4588263.1137], [15...  1.323554e+12   \n",
       "4  {'rings': [[[13121168.2698, -4189066.211], [13...  3.140951e+12   \n",
       "\n",
       "   Shape__Length ISO_CODE     Province_State  Confirmed  Recovered  Deaths  \n",
       "0   9.644242e+06    AUNSW    New South Wales      32323          0     177  \n",
       "1   6.324012e+06    AUVIC           Victoria      22759          0     823  \n",
       "2   1.710215e+07    AUQLD         Queensland       1984          0       7  \n",
       "3   9.970571e+06     AUSA    South Australia        879          0       4  \n",
       "4   2.588493e+07     AUWA  Western Australia       1086          0       9  "
      ]
     },
     "execution_count": 134,
     "metadata": {},
     "output_type": "execute_result"
    }
   ],
   "source": [
    "cols_4 = ['NAME', 'AREA', 'TOTPOP_CY','SHAPE','Shape__Area','Shape__Length','ISO_CODE']\n",
    "overlap_rows_aus = pd.merge(left = aus_states_df[cols_4], right = df_aus, \n",
    "                              how='inner', on = 'NAME')\n",
    "overlap_rows_aus.head()"
   ]
  },
  {
   "cell_type": "code",
   "execution_count": null,
   "metadata": {},
   "outputs": [],
   "source": []
  },
  {
   "cell_type": "code",
   "execution_count": 135,
   "metadata": {},
   "outputs": [
    {
     "data": {
      "application/vnd.jupyter.widget-view+json": {
       "model_id": "572d24d3e42f4bc4b55683f424348710",
       "version_major": 2,
       "version_minor": 0
      },
      "text/plain": [
       "MapView(layout=Layout(height='400px', width='100%'), zoom=4.0)"
      ]
     },
     "metadata": {},
     "output_type": "display_data"
    },
    {
     "data": {
      "text/html": [
       "<div class=\"map-static-img-preview-af4ab3e3-92c9-4e94-990d-761f0bf6c27b\"><img src=\"\"></img></div>"
      ],
      "text/plain": [
       "<IPython.core.display.HTML object>"
      ]
     },
     "metadata": {},
     "output_type": "display_data"
    }
   ],
   "source": [
    "# Map the COVID-19 cases in Canada\n",
    "map1 = gis.map(\"Canada\", zoomlevel=4)\n",
    "map1"
   ]
  },
  {
   "cell_type": "code",
   "execution_count": 58,
   "metadata": {},
   "outputs": [],
   "source": [
    "map1.add_layer(fl, { \"type\": \"FeatureLayer\",\n",
    "                     \"renderer\":\"ClassedSizeRenderer\",\n",
    "                     \"field_name\":\"Confirmed\"})"
   ]
  },
  {
   "cell_type": "code",
   "execution_count": 60,
   "metadata": {},
   "outputs": [],
   "source": [
    "map1.zoom = 3\n",
    "map1.legend = True"
   ]
  },
  {
   "cell_type": "code",
   "execution_count": 136,
   "metadata": {},
   "outputs": [
    {
     "data": {
      "application/vnd.jupyter.widget-view+json": {
       "model_id": "afaff92346784c188b1f4a54ae4b302a",
       "version_major": 2,
       "version_minor": 0
      },
      "text/plain": [
       "MapView(layout=Layout(height='400px', width='100%'))"
      ]
     },
     "metadata": {},
     "output_type": "display_data"
    },
    {
     "data": {
      "text/html": [
       "<div class=\"map-static-img-preview-8d8c4ee9-59bb-4042-badb-b43e594e150d\"><img src=\"\"></img></div>"
      ],
      "text/plain": [
       "<IPython.core.display.HTML object>"
      ]
     },
     "metadata": {},
     "output_type": "display_data"
    }
   ],
   "source": [
    "# Display confirmed cases in Canada as polygons\n",
    "map1b = gis.map('Canada')\n",
    "map1b"
   ]
  },
  {
   "cell_type": "code",
   "execution_count": 137,
   "metadata": {},
   "outputs": [
    {
     "name": "stderr",
     "output_type": "stream",
     "text": [
      "/Users/bonnie/opt/anaconda3/lib/python3.7/site-packages/arcgis/features/geo/_accessor.py:2206: FutureWarning: The pandas.datetime class is deprecated and will be removed from pandas in a future version. Import from datetime module instead.\n",
      "  pd.datetime)):\n"
     ]
    },
    {
     "data": {
      "text/plain": [
       "True"
      ]
     },
     "execution_count": 137,
     "metadata": {},
     "output_type": "execute_result"
    }
   ],
   "source": [
    "map1b.clear_graphics()\n",
    "overlap_rows_canada.spatial.plot(  kind='map', map_widget=map1b,\n",
    "                                  renderer_type='c',  # for class breaks renderer\n",
    "                                  method='esriClassifyNaturalBreaks',  # classification algorithm\n",
    "                                  class_count=4,  # choose the number of classes\n",
    "                                  col='Confirmed',  # numeric column to classify\n",
    "                                  cmap='inferno',  # color map to pick colors from for each class\n",
    "                                  alpha=0.7  # specify opacity\n",
    "                                 )"
   ]
  },
  {
   "cell_type": "code",
   "execution_count": 138,
   "metadata": {},
   "outputs": [],
   "source": [
    "map1b.zoom = 4\n",
    "map1b.legend=True"
   ]
  },
  {
   "cell_type": "code",
   "execution_count": 139,
   "metadata": {},
   "outputs": [
    {
     "data": {
      "text/html": [
       "<div class=\"item_container\" style=\"height: auto; overflow: hidden; border: 1px solid #cfcfcf; border-radius: 2px; background: #f6fafa; line-height: 1.21429em; padding: 10px;\">\n",
       "                    <div class=\"item_left\" style=\"width: 210px; float: left;\">\n",
       "                       <a href='https://utoronto.maps.arcgis.com/home/item.html?id=ec2f3994186b4efdbec07ab7929f0a85' target='_blank'>\n",
       "                        <img src='http://static.arcgis.com/images/desktopapp.png' class=\"itemThumbnail\">\n",
       "                       </a>\n",
       "                    </div>\n",
       "\n",
       "                    <div class=\"item_right\"     style=\"float: none; width: auto; overflow: hidden;\">\n",
       "                        <a href='https://utoronto.maps.arcgis.com/home/item.html?id=ec2f3994186b4efdbec07ab7929f0a85' target='_blank'><b>Confirmed COVID-19 Cases in Canada</b>\n",
       "                        </a>\n",
       "                        <br/>Map created using Python API showing confirmed COVID-19 cases in China<img src='https://utoronto.maps.arcgis.com/home/js/jsapi/esri/css/images/item_type_icons/maps16.png' style=\"vertical-align:middle;\">Web Map by yangyu47_utoronto\n",
       "                        <br/>Last Modified: September 05, 2021\n",
       "                        <br/>0 comments, 0 views\n",
       "                    </div>\n",
       "                </div>\n",
       "                "
      ],
      "text/plain": [
       "<Item title:\"Confirmed COVID-19 Cases in Canada\" type:Web Map owner:yangyu47_utoronto>"
      ]
     },
     "execution_count": 139,
     "metadata": {},
     "output_type": "execute_result"
    }
   ],
   "source": [
    "map1b.save({'title':'Confirmed COVID-19 Cases in Canada',\n",
    "            'snippet':'Map created using Python API showing confirmed COVID-19 cases in China',\n",
    "            'tags':['automation', 'COVID19', 'world health', 'python']})"
   ]
  },
  {
   "cell_type": "code",
   "execution_count": 140,
   "metadata": {},
   "outputs": [
    {
     "data": {
      "application/vnd.jupyter.widget-view+json": {
       "model_id": "022862cd780a453ab57cb34ed6abf62b",
       "version_major": 2,
       "version_minor": 0
      },
      "text/plain": [
       "MapView(hide_mode_switch=True, layout=Layout(height='400px', width='100%'))"
      ]
     },
     "metadata": {},
     "output_type": "display_data"
    },
    {
     "data": {
      "text/html": [
       "<div class=\"map-static-img-preview-b64e6e28-349e-4b4b-9b7b-dbbe51d26bc0\"><img src=\"\"></img></div>"
      ],
      "text/plain": [
       "<IPython.core.display.HTML object>"
      ]
     },
     "metadata": {},
     "output_type": "display_data"
    }
   ],
   "source": [
    "map1b_item = gis.content.search('Confirmed COVID-19 Cases in Canada')[0]\n",
    "WebMap(map1b_item)"
   ]
  },
  {
   "cell_type": "markdown",
   "metadata": {},
   "source": [
    "Create a function to generate maps for confirmed cases for any countries analyzed above"
   ]
  },
  {
   "cell_type": "code",
   "execution_count": 157,
   "metadata": {},
   "outputs": [],
   "source": [
    "def func1(country, overlap_rows_country):\n",
    "    '''Takes in a string of country name - first letter to be a capital letter, \n",
    "    and a corresponding dataframe created earlier,\n",
    "    returns the maps of confirmed cases in points, in polygons and a webmap'''\n",
    "    map0 = gis.map(country, zoomlevel=4)\n",
    "    map0.add_layer(fl, { \"type\": \"FeatureLayer\",\n",
    "                     \"renderer\":\"ClassedSizeRenderer\",\n",
    "                     \"field_name\": \"Confirmed\"})\n",
    "    map0.zoom = 3\n",
    "    map0.legend = True\n",
    "    map0b = gis.map(country)\n",
    "    map0b.clear_graphics()\n",
    "    overlap_rows_country.spatial.plot(kind='map', map_widget=map0b,\n",
    "                                  renderer_type='c',  # for class breaks renderer\n",
    "                                  method='esriClassifyNaturalBreaks',  # classification algorithm\n",
    "                                  class_count=4,  # choose the number of classes\n",
    "                                  col= 'Confirmed',  # numeric column to classify\n",
    "                                  cmap='inferno',  # color map to pick colors from for each class\n",
    "                                  alpha=0.7  # specify opacity\n",
    "                                 )\n",
    "    map0b.zoom = 4\n",
    "    map0b.legend = True\n",
    "    result = map0b.save({'title': 'Confirmed COVID-19 Cases in ' + str(country),\n",
    "            'snippet':'Map created using Python API showing confirmed COVID-19 cases in '+ str(country),\n",
    "            'tags':['automation', 'COVID19', 'world health', 'python']})\n",
    "    return map0, map0b, result"
   ]
  },
  {
   "cell_type": "code",
   "execution_count": 158,
   "metadata": {},
   "outputs": [
    {
     "data": {
      "text/plain": [
       "(MapView(layout=Layout(height='400px', width='100%'), legend=True, zoom=3.0),\n",
       " MapView(layout=Layout(height='400px', width='100%'), legend=True, zoom=4.0),\n",
       " <Item title:\"Confirmed COVID-19 Cases in Canada\" type:Web Map owner:yangyu47_utoronto>)"
      ]
     },
     "execution_count": 158,
     "metadata": {},
     "output_type": "execute_result"
    }
   ],
   "source": [
    "func1('Canada', overlap_rows_canada)"
   ]
  },
  {
   "cell_type": "markdown",
   "metadata": {},
   "source": [
    "Create a function to generate maps for recovered cases for any countries analyzed above"
   ]
  },
  {
   "cell_type": "code",
   "execution_count": 162,
   "metadata": {},
   "outputs": [],
   "source": [
    "def func2(country, overlap_rows_country):\n",
    "    '''Takes in a string of country name - first letter to be capital, \n",
    "    and a corresponding dataframe created earlier,\n",
    "    returns the maps of recovered cases in points, in polygons and a webmap'''\n",
    "    map0 = gis.map(country, zoomlevel=4)\n",
    "    map0.add_layer(fl, { \"type\": \"FeatureLayer\",\n",
    "                     \"renderer\":\"ClassedSizeRenderer\",\n",
    "                     \"field_name\": \"Recovered\"})\n",
    "    map0.zoom = 3\n",
    "    map0.legend = True\n",
    "    map0b = gis.map(country)\n",
    "    map0b.clear_graphics()\n",
    "    overlap_rows_country.spatial.plot(kind='map', map_widget=map0b,\n",
    "                                  renderer_type='c',  # for class breaks renderer\n",
    "                                  method='esriClassifyNaturalBreaks',  # classification algorithm\n",
    "                                  class_count=4,  # choose the number of classes\n",
    "                                  col= 'Recovered',  # numeric column to classify\n",
    "                                  cmap='inferno',  # color map to pick colors from for each class\n",
    "                                  alpha=0.7  # specify opacity\n",
    "                                 )\n",
    "    map0b.zoom = 4\n",
    "    map0b.legend = True\n",
    "    result = map0b.save({'title': 'Recovered COVID-19 Cases in ' + str(country),\n",
    "            'snippet':'Map created using Python API showing recovered COVID-19 cases in '+ str(country),\n",
    "            'tags':['automation', 'COVID19', 'world health', 'python']})\n",
    "    return map0, map0b, result"
   ]
  },
  {
   "cell_type": "code",
   "execution_count": null,
   "metadata": {},
   "outputs": [],
   "source": [
    "func2('Australia', overlap_rows_aus)"
   ]
  },
  {
   "cell_type": "markdown",
   "metadata": {},
   "source": [
    "Create a function to generate maps for deaths cases for any countries analyzed above"
   ]
  },
  {
   "cell_type": "code",
   "execution_count": null,
   "metadata": {},
   "outputs": [],
   "source": [
    "def func3(country, overlap_rows_country):\n",
    "    '''Takes in a string of country name - first letter to be capital, \n",
    "    and a corresponding dataframe created earlier,\n",
    "    returns the maps of deaths cases in points, in polygons and a webmap'''\n",
    "    map0 = gis.map(country, zoomlevel=4)\n",
    "    map0.add_layer(fl, { \"type\": \"FeatureLayer\",\n",
    "                     \"renderer\":\"ClassedSizeRenderer\",\n",
    "                     \"field_name\": \"Deaths\"})\n",
    "    map0.zoom = 3\n",
    "    map0.legend = True\n",
    "    map0b = gis.map(country)\n",
    "    map0b.clear_graphics()\n",
    "    overlap_rows_country.spatial.plot(kind='map', map_widget=map0b,\n",
    "                                  renderer_type='c',  # for class breaks renderer\n",
    "                                  method='esriClassifyNaturalBreaks',  # classification algorithm\n",
    "                                  class_count=4,  # choose the number of classes\n",
    "                                  col= 'Recovered',  # numeric column to classify\n",
    "                                  cmap='inferno',  # color map to pick colors from for each class\n",
    "                                  alpha=0.7  # specify opacity\n",
    "                                 )\n",
    "    map0b.zoom = 4\n",
    "    map0b.legend = True\n",
    "    result = map0b.save({'title': 'Deaths COVID-19 Cases in ' + str(country),\n",
    "            'snippet':'Map created using Python API showing deaths COVID-19 cases in '+ str(country),\n",
    "            'tags':['automation', 'COVID19', 'world health', 'python']})\n",
    "    return map0, map0b, result"
   ]
  },
  {
   "cell_type": "code",
   "execution_count": null,
   "metadata": {},
   "outputs": [],
   "source": [
    "func3('Canada', overlap_rows_canada)"
   ]
  }
 ],
 "metadata": {
  "kernelspec": {
   "display_name": "Python 3",
   "language": "python",
   "name": "python3"
  },
  "language_info": {
   "codemirror_mode": {
    "name": "ipython",
    "version": 3
   },
   "file_extension": ".py",
   "mimetype": "text/x-python",
   "name": "python",
   "nbconvert_exporter": "python",
   "pygments_lexer": "ipython3",
   "version": "3.7.9"
  }
 },
 "nbformat": 4,
 "nbformat_minor": 2
}
